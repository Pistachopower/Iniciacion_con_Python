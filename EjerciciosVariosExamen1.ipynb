{
 "cells": [
  {
   "cell_type": "code",
   "execution_count": 1,
   "metadata": {},
   "outputs": [
    {
     "name": "stdout",
     "output_type": "stream",
     "text": [
      "El portaje de producto es 21.0\n",
      "El precio total de producto es 121.0\n"
     ]
    }
   ],
   "source": [
    "\"\"\"Sacar el porcentaje de un producto y colocar el precio total\"\"\"\n",
    "producto= 100\n",
    "iva= 0.21\n",
    "precioIva= producto * iva\n",
    "precioTotal= producto + precioIva\n",
    "print(\"El portaje de producto es {}\".format(precioIva))\n",
    "print(\"El precio total de producto es {}\".format(precioTotal))\n",
    "\n",
    "#print(precioIva)\n"
   ]
  },
  {
   "cell_type": "code",
   "execution_count": null,
   "metadata": {},
   "outputs": [],
   "source": [
    "\"\"\"\n",
    " De dos números, saber cual es el mayor.\n",
    "\"\"\"\n",
    "a,b=10, 15\n",
    "\n",
    "if a > b :\n",
    "    print(a, \"es mayor que \", b)\n",
    "else:\n",
    "    print(b, \"es mayor que\", a)"
   ]
  },
  {
   "cell_type": "code",
   "execution_count": null,
   "metadata": {},
   "outputs": [],
   "source": [
    "\"\"\"\n",
    "Crea una variable numérica y si esta entre 0 y 10, \n",
    "mostrar un mensaje indicándolo. \n",
    "\"\"\"\n",
    "\n",
    "var= 8\n",
    "\n",
    "if var > 0 and var <11:\n",
    "    print(var, \"está entre 0 y 10. \")"
   ]
  },
  {
   "cell_type": "code",
   "execution_count": null,
   "metadata": {},
   "outputs": [],
   "source": [
    "\"\"\"\n",
    "Añadir al anterior ejercicio, que si esta entre 11 y 20, \n",
    "muestre otro mensaje diferente y si esta entre 21 y 30 otro mensaje.\n",
    "\"\"\"\n",
    "var= 30\n",
    "\n",
    "if var >= 10 and var <21:\n",
    "    print(var, \"está entre 11 y 20. \")\n",
    "elif var>=19 and var <31:\n",
    "    print(var, \"está entre 21 y 30. \")\n"
   ]
  },
  {
   "cell_type": "code",
   "execution_count": 1,
   "metadata": {},
   "outputs": [
    {
     "name": "stdout",
     "output_type": "stream",
     "text": [
      "0\n",
      "1\n",
      "2\n",
      "3\n",
      "4\n",
      "5\n",
      "6\n",
      "7\n",
      "8\n",
      "9\n",
      "10\n",
      "11\n",
      "12\n",
      "13\n",
      "14\n",
      "15\n",
      "16\n",
      "17\n",
      "18\n",
      "19\n",
      "20\n",
      "21\n",
      "22\n",
      "23\n",
      "24\n",
      "25\n",
      "26\n",
      "27\n",
      "28\n",
      "29\n",
      "30\n",
      "31\n",
      "32\n",
      "33\n",
      "34\n",
      "35\n",
      "36\n",
      "37\n",
      "38\n",
      "39\n",
      "40\n",
      "41\n",
      "42\n",
      "43\n",
      "44\n",
      "45\n",
      "46\n",
      "47\n",
      "48\n",
      "49\n",
      "50\n",
      "51\n",
      "52\n",
      "53\n",
      "54\n",
      "55\n",
      "56\n",
      "57\n",
      "58\n",
      "59\n",
      "60\n",
      "61\n",
      "62\n",
      "63\n",
      "64\n",
      "65\n",
      "66\n",
      "67\n",
      "68\n",
      "69\n",
      "70\n",
      "71\n",
      "72\n",
      "73\n",
      "74\n",
      "75\n",
      "76\n",
      "77\n",
      "78\n",
      "79\n",
      "80\n",
      "81\n",
      "82\n",
      "83\n",
      "84\n",
      "85\n",
      "86\n",
      "87\n",
      "88\n",
      "89\n",
      "90\n",
      "91\n",
      "92\n",
      "93\n",
      "94\n",
      "95\n",
      "96\n",
      "97\n",
      "98\n",
      "99\n",
      "100\n"
     ]
    }
   ],
   "source": [
    "\"\"\"\n",
    "Mostrar con un while los números del 1 al 100.\n",
    "\"\"\"\n",
    "\n",
    "i=0\n",
    "\n",
    "while i<=100:\n",
    "    print(i)\n",
    "    i+=1\n",
    "    "
   ]
  },
  {
   "cell_type": "code",
   "execution_count": 3,
   "metadata": {},
   "outputs": [
    {
     "name": "stdout",
     "output_type": "stream",
     "text": [
      "1\n",
      "2\n",
      "3\n",
      "4\n",
      "5\n",
      "6\n",
      "7\n",
      "8\n",
      "9\n",
      "10\n",
      "11\n",
      "12\n",
      "13\n",
      "14\n",
      "15\n",
      "16\n",
      "17\n",
      "18\n",
      "19\n",
      "20\n",
      "21\n",
      "22\n",
      "23\n",
      "24\n",
      "25\n",
      "26\n",
      "27\n",
      "28\n",
      "29\n",
      "30\n",
      "31\n",
      "32\n",
      "33\n",
      "34\n",
      "35\n",
      "36\n",
      "37\n",
      "38\n",
      "39\n",
      "40\n",
      "41\n",
      "42\n",
      "43\n",
      "44\n",
      "45\n",
      "46\n",
      "47\n",
      "48\n",
      "49\n",
      "50\n",
      "51\n",
      "52\n",
      "53\n",
      "54\n",
      "55\n",
      "56\n",
      "57\n",
      "58\n",
      "59\n",
      "60\n",
      "61\n",
      "62\n",
      "63\n",
      "64\n",
      "65\n",
      "66\n",
      "67\n",
      "68\n",
      "69\n",
      "70\n",
      "71\n",
      "72\n",
      "73\n",
      "74\n",
      "75\n",
      "76\n",
      "77\n",
      "78\n",
      "79\n",
      "80\n",
      "81\n",
      "82\n",
      "83\n",
      "84\n",
      "85\n",
      "86\n",
      "87\n",
      "88\n",
      "89\n",
      "90\n",
      "91\n",
      "92\n",
      "93\n",
      "94\n",
      "95\n",
      "96\n",
      "97\n",
      "98\n",
      "99\n",
      "100\n"
     ]
    }
   ],
   "source": [
    "\"\"\"\n",
    "Mostrar con un for los números del 1 al 100.\n",
    "\"\"\"\n",
    "\n",
    "for i in range(1,101):\n",
    "    print(i)"
   ]
  },
  {
   "cell_type": "code",
   "execution_count": 5,
   "metadata": {},
   "outputs": [
    {
     "name": "stdout",
     "output_type": "stream",
     "text": [
      "0 es par. \n"
     ]
    }
   ],
   "source": [
    "\"\"\"\n",
    "Mostrar los números pares entre 1 al 100.\n",
    "\"\"\"\n",
    "\n",
    "num= 0\n",
    "\n",
    "if num %2==0:\n",
    "    print(\"{} es par. \".format(num))"
   ]
  },
  {
   "cell_type": "code",
   "execution_count": 34,
   "metadata": {},
   "outputs": [
    {
     "name": "stdout",
     "output_type": "stream",
     "text": [
      "h\n",
      "o\n",
      "l\n",
      "a\n",
      " \n",
      "m\n",
      "u\n",
      "n\n",
      "d\n",
      "o\n"
     ]
    }
   ],
   "source": [
    "\"\"\"\n",
    " Mostrar los caracteres de la cadena «Hola mundo». \n",
    "\"\"\"\n",
    "for i in \"hola mundo\":\n",
    "    print(i)"
   ]
  },
  {
   "cell_type": "code",
   "execution_count": 22,
   "metadata": {},
   "outputs": [
    {
     "name": "stdout",
     "output_type": "stream",
     "text": [
      "2 es par. \n",
      "4 es par. \n",
      "6 es par. \n",
      "8 es par. \n",
      "10 es par. \n",
      "12 es par. \n",
      "14 es par. \n",
      "16 es par. \n",
      "18 es par. \n",
      "20 es par. \n",
      "22 es par. \n",
      "24 es par. \n",
      "26 es par. \n",
      "28 es par. \n",
      "30 es par. \n",
      "32 es par. \n",
      "34 es par. \n",
      "36 es par. \n",
      "38 es par. \n",
      "40 es par. \n",
      "42 es par. \n",
      "44 es par. \n",
      "46 es par. \n",
      "48 es par. \n",
      "50 es par. \n",
      "52 es par. \n",
      "54 es par. \n",
      "56 es par. \n",
      "58 es par. \n",
      "60 es par. \n",
      "62 es par. \n",
      "64 es par. \n",
      "66 es par. \n",
      "68 es par. \n",
      "70 es par. \n",
      "72 es par. \n",
      "74 es par. \n",
      "76 es par. \n",
      "78 es par. \n",
      "80 es par. \n",
      "82 es par. \n",
      "84 es par. \n",
      "86 es par. \n",
      "88 es par. \n",
      "90 es par. \n",
      "92 es par. \n",
      "94 es par. \n",
      "96 es par. \n",
      "98 es par. \n",
      "100 es par. \n"
     ]
    }
   ],
   "source": [
    "\"\"\"\n",
    "Mostrar los números pares entre 1 al 100.\n",
    "\"\"\"\n",
    "for i in range (1,101):\n",
    "    if i %2==0:\n",
    "        print(\"{} es par. \".format(i))"
   ]
  },
  {
   "cell_type": "code",
   "execution_count": 27,
   "metadata": {},
   "outputs": [
    {
     "name": "stdout",
     "output_type": "stream",
     "text": [
      "[0, 1, 2, 3, 4, 5, 6, 7, 8, 9, 10]\n"
     ]
    }
   ],
   "source": [
    "\"\"\"\n",
    "Generar un rango entre 0 y 10 \n",
    "\"\"\"\n",
    "\n",
    "rango= list(range(0,11))\n",
    "print(rango)"
   ]
  },
  {
   "cell_type": "code",
   "execution_count": 31,
   "metadata": {},
   "outputs": [
    {
     "name": "stdout",
     "output_type": "stream",
     "text": [
      "[5, 6, 7, 8, 9, 10]\n"
     ]
    }
   ],
   "source": [
    "\"\"\"\n",
    "Generar un número entre 5 y 10\n",
    "\"\"\"\n",
    "rango= list(range(5,11))\n",
    "print(rango)"
   ]
  },
  {
   "cell_type": "code",
   "execution_count": 51,
   "metadata": {},
   "outputs": [
    {
     "name": "stdout",
     "output_type": "stream",
     "text": [
      "[10, 9, 8, 7, 6, 5, 4, 3, 2, 1]\n"
     ]
    }
   ],
   "source": [
    "\"\"\"\n",
    " Generar un rango de 10 a 0. \n",
    "\"\"\"\n",
    "rango= list(range(10,0,-1))\n",
    "print(rango)"
   ]
  },
  {
   "cell_type": "code",
   "execution_count": 58,
   "metadata": {},
   "outputs": [
    {
     "name": "stdout",
     "output_type": "stream",
     "text": [
      "[0, 1, 2, 3, 4, 5, 6, 7, 8, 9, 10, 15, 16, 17, 18, 19, 20]\n"
     ]
    }
   ],
   "source": [
    "\"\"\"\n",
    "Generar un rango de 0 a 10 y de 15 a 20, incluidos el 10 y 20\n",
    "\n",
    "\"\"\"\n",
    "rango1= list(range(0,11))\n",
    "rango2= list(range(15,21))\n",
    "rango3= rango1+rango2\n",
    "print(rango3)\n"
   ]
  },
  {
   "cell_type": "code",
   "execution_count": 69,
   "metadata": {},
   "outputs": [
    {
     "name": "stdout",
     "output_type": "stream",
     "text": [
      "[0, 1, 2, 3, 4, 5, 6, 7, 8, 9]\n"
     ]
    }
   ],
   "source": [
    "\"\"\"\n",
    "5) Generar un rango desde 0 hasta la longitud de la cadena “Hola mundo”\n",
    "\n",
    "cadena= \"hola mundo\"\n",
    "print(range(len(cadena)))\n",
    "\"\"\"\n",
    "cadena= list(range(0,(len(\"Hola mundo\"))))\n",
    "print(cadena)\n",
    "\n"
   ]
  },
  {
   "cell_type": "code",
   "execution_count": 9,
   "metadata": {},
   "outputs": [
    {
     "name": "stdout",
     "output_type": "stream",
     "text": [
      "\"mola\" \"hundo\"\n"
     ]
    }
   ],
   "source": [
    "\"\"\"\n",
    "Pide dos cadenas por teclado, muestra ambas cadenas con un \n",
    "espacio entre ellas y con los 2 primeros caracteres intercambiados. \n",
    "Por ejemplo, hola mundo pasaría a mula hondo\n",
    "\"\"\"\n",
    "\n",
    "cadena1= input(\"Introduce la cadena 1: \")\n",
    "cadena2= input(\"Introduce la cadena 2: \")\n",
    "\n",
    "print(cadena2[:2] + cadena1[2:]+ \" \" +cadena1[:2] + cadena2[2:])\n"
   ]
  },
  {
   "cell_type": "code",
   "execution_count": 92,
   "metadata": {},
   "outputs": [
    {
     "name": "stdout",
     "output_type": "stream",
     "text": [
      "[\"hola\"] [\"mundo\"]\n"
     ]
    }
   ],
   "source": [
    "\"\"\"\n",
    "Pide una cadena e indica si es un palíndromo o no.\n",
    "\"\"\"\n",
    "\n",
    "cadena=str(input(\"Introduce un palíndromo: \"))\n",
    "cadena_Alreves= cadena[::-1]\n",
    "\n",
    "print(cadena_Alreves) \n",
    "\n",
    "if(cadena == cadena_Alreves):\n",
    "    print(\"La cadena {} es un palíndromo\".format(cadena))\n",
    "else:\n",
    "    print(\"No es un palindromo\")"
   ]
  },
  {
   "cell_type": "code",
   "execution_count": null,
   "metadata": {},
   "outputs": [],
   "source": [
    "\"Calcular el base y la altura de un triangulo\"\n",
    "baseT= float(input(\"Introduce la base: \"))\n",
    "altura= float(input(\"Introduce la altura: \"))\n",
    "\n",
    "superficie= baseT * altura /2\n",
    "\n",
    "print(\"La superficie del triángulo es: \", superficie)"
   ]
  },
  {
   "cell_type": "code",
   "execution_count": null,
   "metadata": {},
   "outputs": [],
   "source": [
    "\"\"\"Pedir 4 numeros y sacar su producto, suma y media aritmetica\"\"\"\n",
    "a= int(input(\"Ingrese el primer valor: \"))\n",
    "\n",
    "b= int(input(\"Ingrese el segundo valor: \"))\n",
    "\n",
    "c= int(input(\"Ingrese el tercer valor:  \"))\n",
    "\n",
    "d= int(input(\"Ingrese el tercer valor:  \"))\n",
    "\n",
    "resultProducto= a*b*c*d\n",
    "resultSum= a+b+c+d\n",
    "resultAritmetica= a+b+c+d /4\n",
    "\n",
    "print(\"El resultado de las operaciones son las siguientes: \", \n",
    "      \"\\n Resultado del producto: \", resultProducto, \"\\n Resultado de la suma: \",\n",
    "      resultSum, \"\\nResultado de la media aritmética: \",resultAritmetica)"
   ]
  },
  {
   "cell_type": "code",
   "execution_count": null,
   "metadata": {},
   "outputs": [],
   "source": [
    "\"\"\"\n",
    "5) La siguiente matriz (o lista con listas anidadas) debe cumplir una condición, y \n",
    "es que en cada fila, el cuarto elemento siempre debe ser el resultado de sumar los \n",
    "tres primeros. ¿Eres capaz de modificar las sumas incorrectas utilizando la técnica\n",
    "del slicing?\n",
    "\n",
    ">Ayuda: La función **_sum(lista)_** devuelve la suma de todos los elementos de la lista\n",
    "\n",
    "matriz = [ \n",
    "    [1, 1, 1, 3],\n",
    "    [2, 2, 2, 7],\n",
    "    [3, 3, 3, 9],\n",
    "    [4, 4, 4, 13]\n",
    "]\n",
    "\n",
    "otra forma:\n",
    "matriz[1][3]= sum(matriz[1][0:3])\n",
    "matriz[3][3]= sum(matriz[3][0:3])\n",
    "print(matriz)\n",
    "\n",
    "\"\"\"\n",
    "matriz = [ \n",
    "    [1, 1, 1, 3],\n",
    "    [2, 2, 2, 7],\n",
    "    [3, 3, 3, 9],\n",
    "    [4, 4, 4, 13]\n",
    "]\n",
    "\n",
    "matriz[1][-1]= sum(matriz[1][:-1])\n",
    "matriz[3][-1]= sum(matriz[3][:-1])\n",
    "\n",
    "print(matriz)\n",
    "\n"
   ]
  },
  {
   "cell_type": "markdown",
   "metadata": {},
   "source": [
    "\"\"\"\n",
    "Para obtener la letra del DNI basta calcular el resto de dividir el número \n",
    "por 23 y usar la siguiente tabla de asignación:\n",
    "0-T 1-R 2-W 3-A 4-G 5-M 6-Y 7-F 8-P 9-D 10-X 11-B 12-N 13-J 14-Z \n",
    "15-S 16-Q 17-V 18-H 19-L 20-C 21-K 22-E\n",
    "Pedir el número y la letra del dni y escribir si la letra es o no correcta\n",
    "\n",
    "\"\"\"\n"
   ]
  },
  {
   "cell_type": "code",
   "execution_count": 2,
   "metadata": {},
   "outputs": [
    {
     "name": "stdout",
     "output_type": "stream",
     "text": [
      "La letra z no es correcta\n"
     ]
    }
   ],
   "source": [
    "#12345678\n",
    "numeroDni= eval(input(\"Introduce el numeroDni: \"))\n",
    "\n",
    "#\"Z\"\n",
    "letraDni= eval(input(\"Introduzca la letraDni: \"))\n",
    "\n",
    "cadenaLetras= \"TRWAGMYFPDXBNJZSQVHLCKE\"\n",
    "\n",
    "#14\n",
    "resto_Division= numeroDni%23\n",
    "\n",
    "#Almacena Z\n",
    "letra_Correcta= cadenaLetras[resto_Division]\n",
    "\n",
    "#Evalua si Z (que vale 14) es igual al resto de la division que está en el indice\n",
    "#14 de la cadena de caracteres\n",
    "if letraDni == letra_Correcta:\n",
    "    print(\"La letra {} es correcta\".format(letraDni))\n",
    "    \n",
    "else:\n",
    "    print(\"La letra {} no es correcta\".format(letraDni))"
   ]
  },
  {
   "cell_type": "code",
   "execution_count": 1,
   "metadata": {},
   "outputs": [
    {
     "name": "stdout",
     "output_type": "stream",
     "text": [
      "En Matemática has sacado 5\n",
      "En Física has sacado 4\n",
      "En Química has sacado 5\n",
      "En Historia has sacado 8\n",
      "En Lengua has sacado 4\n"
     ]
    }
   ],
   "source": [
    "\"\"\"\n",
    "Escribir un programa que almacene las asignaturas \n",
    "de un curso (por ejemplo Matemáticas, Física, Química, Historia\n",
    "y Lengua) en una lista, pregunte al usuario \n",
    "la nota que ha sacado en cada asignatura, y después las\n",
    "muestre por pantalla con el mensaje En <asignatura> has \n",
    "sacado <nota> donde <asignatura> es cada una des las asignaturas de la lista \n",
    "y <nota> cada una de las correspondientes notas introducidas por el usuario.\n",
    "\n",
    "\"\"\"\n",
    "\n",
    "\n",
    "materias= [\"Matemática\", \"Física\", \"Química\", \"Historia\", \"Lengua\"]\n",
    "notas=[]\n",
    "for i in materias:\n",
    "    nota=(input(\"¿Qué nota has sacado en \"+ i + \"?\"))\n",
    "    notas.append(nota)\n",
    "for i in range(len(materias)):\n",
    "    print(\"En \"+ materias[i]+ \" has sacado \"+ notas[i])"
   ]
  },
  {
   "cell_type": "code",
   "execution_count": null,
   "metadata": {},
   "outputs": [],
   "source": [
    "import math\n",
    "from math import pi\n",
    "\n",
    "\"\"\"\n",
    "Pedir el radio interior y el radio exterior de una corona \n",
    "circular y escribir el área de la corona.\n",
    "\"\"\"\n",
    "#eval significa que permite al teclado introducir cualquier tipo de dato\n",
    "radio_Exterior= eval(input(\"Introduce el radio exterior: \"))\n",
    "\n",
    "radio_Interior= eval(input(\"Introduce el radio interior: \"))\n",
    "\n",
    "area= math.pi * (radio_Exterior**2 - radio_Interior**2)\n",
    "\n",
    "print(f\"\"\"El área de la corona circular de radio \n",
    "      interior {radio_Interior} y radio exterior {round(radio_Exterior)} \n",
    "      es {area}\"\"\")"
   ]
  },
  {
   "cell_type": "code",
   "execution_count": null,
   "metadata": {},
   "outputs": [],
   "source": [
    "\"\"\"\n",
    "Un año es bisieto si es divisible por 4 y no lo es por 100,\n",
    "a menos que lo sea por 400. \n",
    "\n",
    "Problema= Pedir un año y escribir si es o no bisiesto. \n",
    "Pseudocodigo y código \n",
    "\n",
    "Fecha de entrega el viernes \n",
    "\n",
    "Analisis del problema\n",
    "año bisiesto= 366 días (esto hace que\n",
    "febrero tenga 29 días). Ésto ocurre\n",
    "cada 4 años. \n",
    "\n",
    "Pensando en el problema\n",
    "Para que un año sea bisiesto debe cumplir con\n",
    "las siguientes condiciones:\n",
    "Debe ser divisible entre 4 (dar en el resto 0)\n",
    "    Ej: 2004%4=0\n",
    "El valor no debe ser divisible entre 100 (no debe dar 0)\n",
    "\n",
    "Pero si el valor es divisible entre 400 (resto 0) es bisiesto \n",
    "\"\"\"\n",
    "anio_B= int(input(\"Introduce el año a calcular: \"))\n",
    "\n",
    "if anio_B% 4==0 and ((anio_B % 100 !=0) or (anio_B % 400==0)):    print(anio_B, \" es un año bisiesto. \")\n",
    "else:\n",
    "     print(anio_B, \" no es un año bisiesto. \")"
   ]
  },
  {
   "cell_type": "code",
   "execution_count": null,
   "metadata": {},
   "outputs": [],
   "source": [
    "import math \n",
    "\"\"\"\n",
    "Ecuacion de segundo grado\n",
    "\"\"\"\n",
    "term_Cuadra= int(input(\"Introduce el término cuadrático: \")) \n",
    "term_Lineal= int(input(\"Introduce el término lineal: \"))  \n",
    "term_Independ= int(input(\"Introduce el término independiente: \"))  \n",
    "\n",
    "discriminate= (math.sqrt(term_Cuadra) - 4 * term_Cuadra * term_Independ)\n",
    "\n",
    "if discriminate < 0:\n",
    "    print(\"No existe soluciones reales.\")\n",
    "    \n",
    "elif term_Cuadra == 0:\n",
    "    print(\"No es una ecuación de segundo grado.  \")\n",
    "else:\n",
    "    solution_One= (-term_Lineal + math.sqrt(discriminate)) / (2 *term_Cuadra )\n",
    "    solution_Two= (-term_Lineal - math.sqrt(discriminate)) / (2 *term_Cuadra )\n",
    "    print(\"Solución 1: \",solution_One)\n",
    "    print(\"Solución 2: \",solution_Two)"
   ]
  },
  {
   "cell_type": "code",
   "execution_count": null,
   "metadata": {},
   "outputs": [],
   "source": [
    "\"\"\". Pedir una lista de cadenas  y escribir la longitud de \n",
    "cada una de ellas\n",
    "\n",
    "\"\"\"\n",
    "\n",
    "lista_cadenas= eval(input(\"Introduzca una lista de cadena: \"))\n",
    "\n",
    "for cad in lista_cadenas: \n",
    "    print(\"La longitud de {} es {} \".format(cad, len(cad)))"
   ]
  },
  {
   "cell_type": "code",
   "execution_count": null,
   "metadata": {},
   "outputs": [],
   "source": [
    "\"\"\"numeros par e impar\"\"\"\n",
    "num= eval(input(\"Introduce un número: \"))\n",
    "\n",
    "for i in num:\n",
    "    if (i == 2 ==0):\n",
    "        print(\"El número {} es par\".format(i))\n",
    "    else:\n",
    "        print(\"El número {} es impar\".format(i))"
   ]
  },
  {
   "cell_type": "code",
   "execution_count": null,
   "metadata": {},
   "outputs": [],
   "source": [
    "\"\"\"Corona circular\"\"\"\n",
    "import math\n",
    "from math import pi\n",
    "\n",
    "\"\"\"\n",
    "Pedir el radio interior y el radio exterior de una corona \n",
    "circular y escribir el área de la corona.\n",
    "\"\"\"\n",
    "#eval significa que permite al teclado introducir cualquier tipo de dato\n",
    "radio_Exterior= eval(input(\"Introduce el radio exterior: \"))\n",
    "\n",
    "radio_Interior= eval(input(\"Introduce el radio interior: \"))\n",
    "\n",
    "area= math.pi * (radio_Exterior**2 - radio_Interior**2)\n",
    "\n",
    "print(f\"\"\"El área de la corona circular de radio \n",
    "      interior {radio_Interior} y radio exterior {round(radio_Exterior)} \n",
    "      es {area}\"\"\")"
   ]
  },
  {
   "cell_type": "markdown",
   "metadata": {},
   "source": [
    "1. Pedir el radio de un círculo y escribir su área y su perímetro.\n",
    "    - P = 2 $\\pi$ r\n",
    "    - A = $\\pi$ ${r}^2$"
   ]
  },
  {
   "cell_type": "code",
   "execution_count": null,
   "metadata": {},
   "outputs": [],
   "source": [
    "import math\n",
    "\n",
    "radioCirculo= eval(input(\"Introduce el radio del círculo: \"))\n",
    "\n",
    "\n",
    "perimetroCirculo= 2 * math.pi * radioCirculo\n",
    "areaCirculo= math.pi * radioCirculo ** 2\n",
    "\n",
    "print(\"El área del círculo es {}\".format(areaCirculo))\n",
    "print(\"El perímetro del círculo es {}\".format(perimetroCirculo)) "
   ]
  },
  {
   "cell_type": "markdown",
   "metadata": {},
   "source": [
    "2. Pedir un número entero y mostrar los números enteros desde 0 hasta el número introducido por el usuario\n"
   ]
  },
  {
   "cell_type": "code",
   "execution_count": null,
   "metadata": {},
   "outputs": [],
   "source": [
    "\"\"\"    \n",
    "numUser= eval(input(\"Introduce el número entero: \"))\n",
    "contador=0\n",
    "\n",
    "while contador <= numUser:\n",
    "    print(contador)\n",
    "    contador+=1\n",
    "\"\"\"\n",
    "numUser= eval(input(\"Introduce el número entero: \"))\n",
    "\n",
    "for i in range(0,numUser):\n",
    "    print(i)"
   ]
  },
  {
   "cell_type": "markdown",
   "metadata": {},
   "source": [
    "3. Pedir al usuario que introduzca una palabra, escribir la palabra introducida por el usuario y volver a pedir que introduzca otra palabra hasta que el usuario escriba la palabra \"salir\""
   ]
  },
  {
   "cell_type": "code",
   "execution_count": 3,
   "metadata": {},
   "outputs": [
    {
     "name": "stdout",
     "output_type": "stream",
     "text": [
      "salir\n"
     ]
    }
   ],
   "source": [
    "\n",
    "palabra=\" \"\n",
    "salida= \"salir\"\n",
    "\n",
    "while palabra != salida:\n",
    "    palabra= eval(input(\"Introduce la palabra: \"))\n",
    "    \n",
    "    print(palabra)"
   ]
  },
  {
   "cell_type": "markdown",
   "metadata": {},
   "source": [
    "4. Pedir un número entero y crear dos listas, una que guarde los números pares y otra con los impares, con los enteros comprendidos desde el 1 hasta el número introducido por el usuario"
   ]
  },
  {
   "cell_type": "code",
   "execution_count": null,
   "metadata": {},
   "outputs": [],
   "source": [
    "num= int(input(\"Introduce el número: \"))\n",
    "contador=1\n",
    "par= []\n",
    "impar= []\n",
    "\n",
    "while contador <= num:\n",
    "    contador+=1\n",
    "    if (contador %2 ==0):\n",
    "        par.append(contador)\n",
    "    else:\n",
    "        impar.append(contador)\n",
    "print(par)\n",
    "print(impar)"
   ]
  },
  {
   "cell_type": "markdown",
   "metadata": {},
   "source": [
    "5. Nuestro cliente nos está pidiendo que cremos los usuarios y contraseñas para las personas que van a hacer uso de la aplicación, para crear el usuario concatenamos los dos primeros caracteres del nombre y los apellidos más los dos primeros dígitos del dni y la contraseña es el número del dni al revés sin la letra.\n",
    "\n",
    "Pedir una lista de cadenas con el nombre, apellidos y dni del usuario y escribir el usuario y la contraseña que le corresponde.    \n",
    "    \n",
    "- Ejemplo: [\"María\", \"Gonzalez\", \"Padilla\", \"80052639R\"]\n",
    "    -> usuario: magopa180 -> contraseña: 93625008    \n",
    "\n",
    "* Para convertir una cadena a minúsculas puedes utilizar método lower(), cadena.lower()"
   ]
  },
  {
   "cell_type": "code",
   "execution_count": null,
   "metadata": {},
   "outputs": [],
   "source": [
    "nombre= eval(input(\"Introduce tu nombre: \"))\n",
    "apellido1= eval(input(\"Introduce tu apellido: \"))\n",
    "apellido2= eval(input(\"Introduce tu segundo apellido: \"))\n",
    "dni= eval(input(\"Introduce tu DNI: \"))\n",
    "\n",
    "#Seleccionamos los caracteres \n",
    "a= nombre[0:2]\n",
    "b= apellido1[0:2]\n",
    "c= apellido2[0:2]\n",
    "d= dni[0:2]\n",
    "\n",
    "#Definimos el usuario y colocamos cualquier caracter \n",
    "#en minuscula\n",
    "usuario= a + b + c + d\n",
    "usuarioFinal= usuario.lower()\n",
    "\n",
    "#Creamos la contrasena\n",
    "definicionContras= dni[::-1]\n",
    "finalContras= definicionContras[1:]\n",
    "\n",
    "print(\"Usuario {}\".format(usuarioFinal))\n",
    "print(\"Contraseña {}\".format(finalContras))\n",
    "\n",
    "\n",
    "\"\"\"\n",
    "usu = (\"\")\n",
    "list1 = eval(input(\"Inserta tu usuario\"))\n",
    "for i in list1:\n",
    "    usu = usu + i[:2]\n",
    "\n",
    "con = list1[-1][7::-1]\n",
    "\n",
    "print(\"usuario: {} -> contraseña: {}\".format(usu.lower(), con))\n",
    "\n",
    "\"\"\"\n"
   ]
  }
 ],
 "metadata": {
  "kernelspec": {
   "display_name": "Python 3.10.6 64-bit",
   "language": "python",
   "name": "python3"
  },
  "language_info": {
   "codemirror_mode": {
    "name": "ipython",
    "version": 3
   },
   "file_extension": ".py",
   "mimetype": "text/x-python",
   "name": "python",
   "nbconvert_exporter": "python",
   "pygments_lexer": "ipython3",
   "version": "3.10.6 (main, Aug 10 2022, 11:40:04) [GCC 11.3.0]"
  },
  "orig_nbformat": 4,
  "vscode": {
   "interpreter": {
    "hash": "916dbcbb3f70747c44a77c7bcd40155683ae19c65e1c03b4aa3499c5328201f1"
   }
  }
 },
 "nbformat": 4,
 "nbformat_minor": 2
}
